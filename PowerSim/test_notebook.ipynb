{
 "cells": [
  {
   "cell_type": "markdown",
   "metadata": {},
   "source": [
    "Test notebook\n"
   ]
  },
  {
   "cell_type": "code",
   "execution_count": 1,
   "metadata": {},
   "outputs": [
    {
     "name": "stderr",
     "output_type": "stream",
     "text": [
      "c:\\Users\\LukaK\\anaconda3\\lib\\site-packages\\scipy\\__init__.py:146: UserWarning: A NumPy version >=1.16.5 and <1.23.0 is required for this version of SciPy (detected version 1.23.4\n",
      "  warnings.warn(f\"A NumPy version >={np_minversion} and <{np_maxversion}\"\n"
     ]
    }
   ],
   "source": [
    "# %%\n",
    "\n",
    "import matplotlib.pyplot as plt\n",
    "import matplotlib as mpl\n",
    "\n",
    "from matplotlib.ticker import (MultipleLocator, AutoMinorLocator)\n",
    "import numpy as np\n",
    "\n",
    "from world_model import WorldModel\n",
    "import data\n",
    "\n"
   ]
  },
  {
   "cell_type": "code",
   "execution_count": null,
   "metadata": {},
   "outputs": [],
   "source": [
    "\n",
    "''' Format plots'''\n",
    "\n",
    "fsize = 11\n",
    "tsize = 18\n",
    "tdir = 'in'\n",
    "major = 5.0\n",
    "minor = 3.0\n",
    "lwidth = 0.8\n",
    "lhandle = 2.0\n",
    "plt.style.use('default')\n",
    "plt.rcParams['font.family'] = 'Times New Roman'\n",
    "plt.rcParams['font.size'] = fsize\n",
    "plt.rcParams['legend.fontsize'] = fsize\n",
    "plt.rcParams['xtick.direction'] = tdir\n",
    "plt.rcParams['ytick.direction'] = tdir\n",
    "plt.rcParams['xtick.major.size'] = major\n",
    "plt.rcParams['xtick.minor.size'] = minor\n",
    "plt.rcParams['ytick.major.size'] = 5.0\n",
    "plt.rcParams['ytick.minor.size'] = 3.0\n",
    "plt.rcParams['axes.linewidth'] = lwidth\n",
    "plt.rcParams['legend.handlelength'] = lhandle\n",
    "plt.rcParams['axes.autolimit_mode'] = 'round_numbers'\n",
    "plt.rcParams['axes.xmargin'] = 0\n",
    "plt.rcParams['axes.ymargin'] = 0\n",
    "plt.rcParams['figure.dpi'] = 300\n",
    "mpl.rcParams['axes.prop_cycle'] = mpl.cycler(color=[\"yellowgreen\", \"black\", \"dimgrey\", 'darkgreen', 'aqua', 'deepskyblue', 'orange', 'blue', 'indianred']) \n",
    "\n"
   ]
  },
  {
   "cell_type": "code",
   "execution_count": 3,
   "metadata": {},
   "outputs": [
    {
     "name": "stdout",
     "output_type": "stream",
     "text": [
      "c:\\Users\\LukaK\\OneDrive - Durham University\\Projects\\Agent based modelling easy\\PowerSim\n"
     ]
    },
    {
     "ename": "FileNotFoundError",
     "evalue": "[Errno 2] No such file or directory: 'total_per_tech.npy'",
     "output_type": "error",
     "traceback": [
      "\u001b[1;31m---------------------------------------------------------------------------\u001b[0m",
      "\u001b[1;31mFileNotFoundError\u001b[0m                         Traceback (most recent call last)",
      "\u001b[1;32m~\\AppData\\Local\\Temp/ipykernel_21240/2278886695.py\u001b[0m in \u001b[0;36m<module>\u001b[1;34m\u001b[0m\n\u001b[0;32m      4\u001b[0m \u001b[0mprint\u001b[0m\u001b[1;33m(\u001b[0m\u001b[0mcwd\u001b[0m\u001b[1;33m)\u001b[0m\u001b[1;33m\u001b[0m\u001b[1;33m\u001b[0m\u001b[0m\n\u001b[0;32m      5\u001b[0m \u001b[1;33m\u001b[0m\u001b[0m\n\u001b[1;32m----> 6\u001b[1;33m \u001b[0mprint\u001b[0m\u001b[1;33m(\u001b[0m\u001b[0mnp\u001b[0m\u001b[1;33m.\u001b[0m\u001b[0mload\u001b[0m\u001b[1;33m(\u001b[0m\u001b[1;34m'total_per_tech.npy'\u001b[0m\u001b[1;33m)\u001b[0m\u001b[1;33m)\u001b[0m\u001b[1;33m\u001b[0m\u001b[1;33m\u001b[0m\u001b[0m\n\u001b[0m\u001b[0;32m      7\u001b[0m \u001b[1;33m\u001b[0m\u001b[0m\n",
      "\u001b[1;32mc:\\Users\\LukaK\\anaconda3\\lib\\site-packages\\numpy\\lib\\npyio.py\u001b[0m in \u001b[0;36mload\u001b[1;34m(file, mmap_mode, allow_pickle, fix_imports, encoding)\u001b[0m\n\u001b[0;32m    388\u001b[0m             \u001b[0mown_fid\u001b[0m \u001b[1;33m=\u001b[0m \u001b[1;32mFalse\u001b[0m\u001b[1;33m\u001b[0m\u001b[1;33m\u001b[0m\u001b[0m\n\u001b[0;32m    389\u001b[0m         \u001b[1;32melse\u001b[0m\u001b[1;33m:\u001b[0m\u001b[1;33m\u001b[0m\u001b[1;33m\u001b[0m\u001b[0m\n\u001b[1;32m--> 390\u001b[1;33m             \u001b[0mfid\u001b[0m \u001b[1;33m=\u001b[0m \u001b[0mstack\u001b[0m\u001b[1;33m.\u001b[0m\u001b[0menter_context\u001b[0m\u001b[1;33m(\u001b[0m\u001b[0mopen\u001b[0m\u001b[1;33m(\u001b[0m\u001b[0mos_fspath\u001b[0m\u001b[1;33m(\u001b[0m\u001b[0mfile\u001b[0m\u001b[1;33m)\u001b[0m\u001b[1;33m,\u001b[0m \u001b[1;34m\"rb\"\u001b[0m\u001b[1;33m)\u001b[0m\u001b[1;33m)\u001b[0m\u001b[1;33m\u001b[0m\u001b[1;33m\u001b[0m\u001b[0m\n\u001b[0m\u001b[0;32m    391\u001b[0m             \u001b[0mown_fid\u001b[0m \u001b[1;33m=\u001b[0m \u001b[1;32mTrue\u001b[0m\u001b[1;33m\u001b[0m\u001b[1;33m\u001b[0m\u001b[0m\n\u001b[0;32m    392\u001b[0m \u001b[1;33m\u001b[0m\u001b[0m\n",
      "\u001b[1;31mFileNotFoundError\u001b[0m: [Errno 2] No such file or directory: 'total_per_tech.npy'"
     ]
    }
   ],
   "source": [
    "import os\n",
    "\n",
    "cwd = os.getcwd()\n",
    "print(cwd)\n",
    "\n",
    "print(np.load('total_per_tech.npy'))\n",
    "\n"
   ]
  },
  {
   "cell_type": "code",
   "execution_count": null,
   "metadata": {},
   "outputs": [],
   "source": [
    "\n",
    "descriptor  = 'No carbon tax second time all cost data 3 times'\n",
    "tech_types = ['nuclear', 'coal', 'fossil_fuel', 'bioenergy', 'wind_onshore', 'wind_offshore', 'solar', 'hydro', 'CCGT']\n",
    "\n",
    "\n",
    "#%%\n",
    "'''Stacked plot of daily production'''\n",
    "\n",
    "fig, ax = plt.subplots()\n",
    "\n",
    "total_per_tech = np.array(total_per_tech)\n",
    "\n",
    "print(np.shape(total_per_tech))\n",
    "\n",
    "\n",
    "\n",
    "ydata = total_per_tech[3,:,:]/1000\n",
    "\n",
    "\n",
    "demandtest = np.array([20000, 20000, 20000, 20000,\n",
    "        20000, 20000, 20000, 20000,\n",
    "        20000, 20000, 20000, 20000,\n",
    "        20000, 20000, 20000, 20000,\n",
    "        20000, 20000, 20000, 20000,\n",
    "        20000, 20000, 20000, 20000]\n",
    ")\n",
    "\n",
    "\n",
    "print((np.sum(ydata, axis = 0)-demandtest/1000))\n",
    "xdata = range((1*24))\n",
    "\n",
    "mpl.rcParams['axes.prop_cycle'] = mpl.cycler(color=[\"yellowgreen\", \"black\", \"dimgrey\", 'darkgreen', 'aqua', 'deepskyblue', 'orange', 'blue', 'indianred']) \n",
    "\n",
    "# print(ydata)\n",
    "tech_types_named =  ['Nuclear', 'Coal', 'Other fossil fuel','Biomass', 'Onshore wind', 'Offshore wind', 'Solar', 'Hydro', 'Gas']\n",
    "ax.stackplot(xdata,*ydata, labels = [t for t in tech_types_named])\n",
    "#have to remove the historical data from the plot\n",
    "\n",
    "\n",
    "\n",
    "ax.set_ylabel('Electricity production (GW)')\n",
    "ax.set_xlabel('Hour')\n",
    "ax.xaxis.set_minor_locator(AutoMinorLocator())\n",
    "ax.xaxis.set_major_locator(MultipleLocator(24))\n",
    "ax.set_xlim(0, len(xdata))\n",
    "ax.yaxis.set_minor_locator(AutoMinorLocator())\n",
    "ax.legend(loc = (1.04, 0.25))\n",
    "# ax.set_xlim(0, n_years)\n",
    "# ax.set_ylim(min(average_yearly_strike_prices) - 5, (max(average_yearly_strike_prices) + 5))\n",
    "ax.spines.right.set_visible(False)\n",
    "ax.spines.top.set_visible(False)\n",
    "\n",
    "# plt.savefig(fname = f'{descriptor}year production - 12 days', bbox_inches = \"tight\" )\n",
    "plt.show()\n",
    "\n",
    "#%%\n",
    "#%%\n",
    "    \n",
    "\n",
    "fig, ax = plt.subplots()\n",
    "\n",
    "total_per_tech = np.array(total_per_tech)\n",
    "print(np.shape(total_per_tech))\n",
    "\n",
    "ydata = np.average(total_per_tech, axis = 2)\n",
    "print(np.shape(ydata))\n",
    "xdata = range(1, n_years+1)\n",
    "\n",
    "# print(ydata)\n",
    "tech_types_named =  ['Nuclear', 'Coal', 'Other fossil fuel','Biomass', 'Onshore wind', 'Offshore wind', 'Solar', 'Hydro', 'Gas']\n",
    "for i in range(9):\n",
    "    y = ydata[:,i]/(960)\n",
    "    ax.plot(xdata,y, label =  tech_types_named[i])\n",
    "#have to remove the historical data from the plot\n",
    "\n",
    "ax.set_ylabel('Average electricity production (GW)')\n",
    "ax.set_xlabel('Year')\n",
    "ax.xaxis.set_minor_locator(AutoMinorLocator())\n",
    "ax.xaxis.set_major_locator(MultipleLocator(5))\n",
    "ax.set_xlim(1, max(xdata))\n",
    "ax.yaxis.set_minor_locator(AutoMinorLocator())\n",
    "ax.legend(loc = (1.04, 0.25))\n",
    "# ax.set_xlim(0, n_years)\n",
    "# ax.set_ylim(min(average_yearly_strike_prices) - 5, (max(average_yearly_strike_prices) + 5))\n",
    "ax.spines.right.set_visible(False)\n",
    "ax.spines.top.set_visible(False)\n",
    "\n",
    "# plt.savefig(fname = f'{descriptor}average_production 30 year - 12 days', bbox_inches = \"tight\" )\n",
    "plt.show()\n",
    "# %%\n",
    "'''average prices and average carbon'''\n",
    "\n",
    "\n",
    "fig, ax = plt.subplots()\n",
    "\n",
    "\n",
    "\n",
    "ydata = average_yearly_prices\n",
    "\n",
    "xdata = range(1, n_years+1)\n",
    "\n",
    "# print(ydata)\n",
    "tech_types_named =  ['Nuclear', 'Coal', 'Other fossil fuel','Biomass', 'Onshore wind', 'Offshore wind', 'Solar', 'Hydro', 'Gas']\n",
    "\n",
    "ax.plot(xdata,ydata[5:])\n",
    "#have to remove the historical data from the plot\n",
    "\n",
    "ax.set_ylabel('Average electricity price (GBP)')\n",
    "ax.set_xlabel('Year')\n",
    "ax.xaxis.set_minor_locator(AutoMinorLocator())\n",
    "ax.xaxis.set_major_locator(MultipleLocator(5))\n",
    "ax.set_xlim(1, max(xdata))\n",
    "ax.yaxis.set_minor_locator(AutoMinorLocator())\n",
    "ax.legend(loc = (1.04, 0.25))\n",
    "# ax.set_xlim(0, n_years)\n",
    "# ax.set_ylim(min(average_yearly_strike_prices) - 5, (max(average_yearly_strike_prices) + 5))\n",
    "ax.spines.right.set_visible(False)\n",
    "ax.spines.top.set_visible(False)\n",
    "\n",
    "# plt.savefig(fname = f'{descriptor}av. price 12 days.png', bbox_inches = \"tight\" )\n",
    "plt.show()\n"
   ]
  }
 ],
 "metadata": {
  "kernelspec": {
   "display_name": "Python 3.9.7 ('base')",
   "language": "python",
   "name": "python3"
  },
  "language_info": {
   "codemirror_mode": {
    "name": "ipython",
    "version": 3
   },
   "file_extension": ".py",
   "mimetype": "text/x-python",
   "name": "python",
   "nbconvert_exporter": "python",
   "pygments_lexer": "ipython3",
   "version": "3.9.7"
  },
  "orig_nbformat": 4,
  "vscode": {
   "interpreter": {
    "hash": "aca2b8896be10415f8b989ebd068dbd30a184d37dc8ebfc8fbef13d7aec8bbd2"
   }
  }
 },
 "nbformat": 4,
 "nbformat_minor": 2
}
